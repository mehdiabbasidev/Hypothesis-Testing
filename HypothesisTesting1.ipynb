{
  "nbformat": 4,
  "nbformat_minor": 0,
  "metadata": {
    "colab": {
      "provenance": [],
      "collapsed_sections": [
        "DlSwTZuiVitj",
        "bOKqFYf7VhEO",
        "J1VqFLREVzMt",
        "sNPTPboyYgqk",
        "rtaiQyrmdzSL",
        "WvxUHXXIsStp",
        "KTt568pgs6FA",
        "eyqkqmh1tE5C",
        "CKv7FZZftXaw"
      ],
      "authorship_tag": "ABX9TyNxAscqk4JtaBylsWvjwegd",
      "include_colab_link": true
    },
    "kernelspec": {
      "name": "python3",
      "display_name": "Python 3"
    },
    "language_info": {
      "name": "python"
    }
  },
  "cells": [
    {
      "cell_type": "markdown",
      "metadata": {
        "id": "view-in-github",
        "colab_type": "text"
      },
      "source": [
        "<a href=\"https://colab.research.google.com/github/mehdiabbasidev/Hypothesis-Testing/blob/main/HypothesisTesting1.ipynb\" target=\"_parent\"><img src=\"https://colab.research.google.com/assets/colab-badge.svg\" alt=\"Open In Colab\"/></a>"
      ]
    },
    {
      "cell_type": "markdown",
      "source": [
        "##EX1 : one sample z-test one tailed"
      ],
      "metadata": {
        "id": "DlSwTZuiVitj"
      }
    },
    {
      "cell_type": "code",
      "source": [
        "from scipy.stats import norm\n",
        "\n",
        "def calc_p_Value(pop_mean,pop_std,sample_mean,sample_size,alpha):\n",
        "  z_Test=(sample_mean-pop_mean)/(pop_std/(sample_size**0.5))\n",
        "  p_value=1-norm.cdf(abs(z_Test))\n",
        "  return p_value\n",
        "\n",
        "pop_mean=1000\n",
        "pop_std=50\n",
        "sample_mean=990\n",
        "sample_size=100\n",
        "alpha=0.05\n",
        "p_value=calc_p_Value(pop_mean,pop_std,sample_mean,sample_size,alpha)\n",
        "\n",
        "if p_value<alpha :\n",
        "  print(\"Rejection H0\")\n",
        "else:\n",
        "  print(\"Do not Rejection H0\")\n"
      ],
      "metadata": {
        "colab": {
          "base_uri": "https://localhost:8080/"
        },
        "id": "-sT7JABFogSB",
        "outputId": "380dcf31-2f87-4e43-9ec6-e78b031ea132"
      },
      "execution_count": null,
      "outputs": [
        {
          "output_type": "stream",
          "name": "stdout",
          "text": [
            "Rejection H0\n"
          ]
        }
      ]
    },
    {
      "cell_type": "markdown",
      "source": [
        "##EX2 : one sample z-test one tailed"
      ],
      "metadata": {
        "id": "bOKqFYf7VhEO"
      }
    },
    {
      "cell_type": "code",
      "source": [
        "from scipy.stats import norm\n",
        "\n",
        "def calc_p_Value(pop_mean,pop_std,sample_mean,sample_size,alpha):\n",
        "  z_Test=(sample_mean-pop_mean)/(pop_std/(sample_size**0.5))\n",
        "  p_value=1-norm.cdf(abs(z_Test))\n",
        "  print(f\"p_value : {p_value}\")\n",
        "  return p_value\n",
        "\n",
        "pop_mean=80\n",
        "pop_std=5\n",
        "sample_mean=82\n",
        "sample_size=40\n",
        "alpha=0.05\n",
        "p_value=calc_p_Value(pop_mean,pop_std,sample_mean,sample_size,alpha)\n",
        "\n",
        "if p_value<alpha :\n",
        "  print(\"Rejection H0\")\n",
        "else:\n",
        "  print(\"Do not Rejection H0\")\n"
      ],
      "metadata": {
        "id": "pClLW_Og6Vhy"
      },
      "execution_count": null,
      "outputs": []
    },
    {
      "cell_type": "markdown",
      "source": [
        "##EX3 : one sample t-test one tailed"
      ],
      "metadata": {
        "id": "J1VqFLREVzMt"
      }
    },
    {
      "cell_type": "code",
      "source": [
        "import numpy as np\n",
        "from scipy import stats\n",
        "\n",
        "scores = np.array([78, 82, 75, 90, 88])\n",
        "population_mean=70\n",
        "t_test, p_value = stats.ttest_1samp(scores, population_mean)\n",
        "\n",
        "print(f\"t_test: {t_test:.4f}\")\n",
        "print(f\"p-value: {p_value:.4f}\")\n",
        "\n",
        "alpha = 0.05\n",
        "if p_value < alpha:\n",
        "    print(\"difference in the mean\"+\" => H0 Reject\")\n",
        "else:\n",
        "    print(\"not difference in the mean\")\n"
      ],
      "metadata": {
        "id": "r8l9o7xkV4fU"
      },
      "execution_count": null,
      "outputs": []
    },
    {
      "cell_type": "markdown",
      "source": [
        "## EX4: two sample z-test two tailed"
      ],
      "metadata": {
        "id": "sNPTPboyYgqk"
      }
    },
    {
      "cell_type": "code",
      "source": [
        "import numpy as np\n",
        "from scipy.stats import norm\n",
        "\n",
        "scores_A = np.array([85, 90, 88, 92, 87])\n",
        "scores_B = np.array([78, 85, 80, 88, 82])\n",
        "\n",
        "mean_A, mean_B = np.mean(scores_A), np.mean(scores_B)\n",
        "std_A, std_B = np.std(scores_A, ddof=1), np.std(scores_B, ddof=1)\n",
        "n_A, n_B = len(scores_A), len(scores_B)\n",
        "\n",
        "\n",
        "z_test = (mean_A - mean_B) / np.sqrt((std_A**2 / n_A) + (std_B**2 / n_B))\n",
        "p_value =2* (1 - norm.cdf(abs(z_test)))\n",
        "\n",
        "print(f\"z_Test: {z_test:.4f}\")\n",
        "print(f\"p-value: {p_value:.4f}\")\n",
        "\n",
        "if p_value < alpha:\n",
        "    print(\"difference in the mean => H0 Reject\")\n",
        "else:\n",
        "    print(\"not difference in the mean\")"
      ],
      "metadata": {
        "id": "nALKn1WoT6Js",
        "colab": {
          "base_uri": "https://localhost:8080/"
        },
        "outputId": "e668de62-83c6-4649-b243-67f73d3f145f"
      },
      "execution_count": null,
      "outputs": [
        {
          "output_type": "stream",
          "name": "stdout",
          "text": [
            "z_Test: 2.6984\n",
            "p-value: 0.0070\n",
            "difference in the mean\n"
          ]
        }
      ]
    },
    {
      "cell_type": "markdown",
      "source": [
        "## EX5 : two sample t-test"
      ],
      "metadata": {
        "id": "ReGumIDLd0hY"
      }
    },
    {
      "cell_type": "code",
      "source": [
        "import numpy as np\n",
        "from scipy import stats\n",
        "\n",
        "group_a = np.random.normal(loc=30, scale=10, size=30)\n",
        "group_b = np.random.normal(loc=35, scale=10, size=30)\n",
        "mean_a=np.mean(group_a)\n",
        "std_a=np.std(group_a)\n",
        "print(f\"mean_a : {mean_a:.4f}\\t\\tstd_a : {std_a:.4f}\")\n",
        "\n",
        "mean_b=np.mean(group_b)\n",
        "std_b=np.std(group_b)\n",
        "print(f\"mean_b : {mean_b:.4f}\\t\\tstd_b : {std_b:.4f}\")\n",
        "\n",
        "\n",
        "t_test, p_value = stats.ttest_ind(group_a, group_b,equal_var=True)\n",
        "\n",
        "print(f\"t_test: {t_test:.4f}\")\n",
        "print(f\"p-value: {p_value:.4f}\")\n",
        "\n",
        "alpha = 0.05\n",
        "if p_value < alpha:\n",
        "    print(\"difference in the mean => H0 Reject\")\n",
        "else:\n",
        "    print(\"not difference in the mean\")\n"
      ],
      "metadata": {
        "id": "3aaOy1gjT6wz",
        "colab": {
          "base_uri": "https://localhost:8080/"
        },
        "outputId": "baf3dabf-fab0-4081-8cd1-46319472332f"
      },
      "execution_count": null,
      "outputs": [
        {
          "output_type": "stream",
          "name": "stdout",
          "text": [
            "mean_a : 31.3980\t\tstd_a : 9.0447\n",
            "mean_b : 34.8053\t\tstd_b : 8.7637\n",
            "t_test: -1.4570\n",
            "p-value: 0.1505\n",
            "not difference in the mean\n"
          ]
        }
      ]
    },
    {
      "cell_type": "markdown",
      "source": [
        "## EX6 : Independent Two Sample t-test"
      ],
      "metadata": {
        "id": "rtaiQyrmdzSL"
      }
    },
    {
      "cell_type": "code",
      "source": [
        "import numpy as np\n",
        "from scipy import stats\n",
        "\n",
        "group_a = np.random.normal(loc=30, scale=10, size=30)\n",
        "group_b = np.random.normal(loc=35, scale=10, size=30)\n",
        "\n",
        "t_test, p_value = stats.ttest_ind(group_a, group_b)   # ,equal_var=True/False\n",
        "\n",
        "print(f\"t_test: {t_test:.4f}\")\n",
        "print(f\"p-value: {p_value:.4f}\")\n",
        "\n",
        "alpha = 0.05\n",
        "if p_value < alpha:\n",
        "    print(\"difference in the mean\")\n",
        "else:\n",
        "    print(\"not difference in the mean\")\n"
      ],
      "metadata": {
        "colab": {
          "base_uri": "https://localhost:8080/"
        },
        "id": "fOVhu752scGB",
        "outputId": "4e6cdda2-703c-410f-a3a4-d31f06b90b32"
      },
      "execution_count": null,
      "outputs": [
        {
          "output_type": "stream",
          "name": "stdout",
          "text": [
            "t_test: -4.4145\n",
            "p-value: 0.0000\n",
            "difference in the mean\n"
          ]
        }
      ]
    },
    {
      "cell_type": "markdown",
      "source": [
        "## EX7 : Dependent Two Sample t-test"
      ],
      "metadata": {
        "id": "WvxUHXXIsStp"
      }
    },
    {
      "cell_type": "markdown",
      "source": [
        "###Create dependent pair data"
      ],
      "metadata": {
        "id": "KTt568pgs6FA"
      }
    },
    {
      "cell_type": "code",
      "source": [
        "import numpy as np\n",
        "import pandas as pd\n",
        "np.random.seed(42)\n",
        "heights = np.random.normal(loc=170, scale=5, size=10)\n",
        "weights = heights * 0.6 + np.random.normal(loc=0, scale=3, size=10)\n",
        "data = pd.DataFrame({'Height': heights, 'Weight': weights})\n",
        "print(data)\n"
      ],
      "metadata": {
        "id": "KVqSk5s9s5ZA"
      },
      "execution_count": null,
      "outputs": []
    },
    {
      "cell_type": "code",
      "source": [
        "import numpy as np\n",
        "from scipy import stats\n",
        "\n",
        "before = np.array([25, 30, 35, 28, 33])\n",
        "after = np.array([30, 32, 37, 31, 35])\n",
        "t_test, p_value = stats.ttest_rel(before, after)\n",
        "\n",
        "print(f\"t_test: {t_test:.4f}\")\n",
        "print(f\"p-value: {p_value:.4f}\")\n",
        "\n",
        "alpha = 0.05\n",
        "if p_value < alpha:\n",
        "    print(\"difference in the mean\")\n",
        "else:\n",
        "    print(\"not difference in the mean\")"
      ],
      "metadata": {
        "colab": {
          "base_uri": "https://localhost:8080/"
        },
        "id": "VXrXACNvryDt",
        "outputId": "0736db46-964e-48a3-c2fe-a18be866c1e4"
      },
      "execution_count": null,
      "outputs": [
        {
          "output_type": "stream",
          "name": "stdout",
          "text": [
            "t_test: -4.8020\n",
            "p-value: 0.0086\n",
            "difference in the mean\n"
          ]
        }
      ]
    },
    {
      "cell_type": "markdown",
      "source": [
        "## EX8 : ANOVA-Test"
      ],
      "metadata": {
        "id": "eyqkqmh1tE5C"
      }
    },
    {
      "cell_type": "code",
      "source": [
        "import numpy as np\n",
        "from scipy.stats import f_oneway\n",
        "\n",
        "group_a_scores = [75, 82, 88, 78, 92]\n",
        "group_b_scores = [68, 75, 79, 80, 82]\n",
        "group_c_scores = [90, 85, 88, 92, 95]\n",
        "\n",
        "f_statistic, p_value = f_oneway(group_a_scores, group_b_scores, group_c_scores)\n",
        "print(f\"f_statistic: {f_statistic:.4f}\")\n",
        "print(f\"p-value: {p_value:.4f}\")\n",
        "\n",
        "alpha = 0.05\n",
        "if p_value < alpha:\n",
        "    print(\"difference in the mean\")\n",
        "else:\n",
        "    print(\"not difference in the mean\")"
      ],
      "metadata": {
        "colab": {
          "base_uri": "https://localhost:8080/"
        },
        "id": "PxZ4y4McsU8l",
        "outputId": "f55a9886-7859-4cf8-d1c9-2e0e0302ba78"
      },
      "execution_count": null,
      "outputs": [
        {
          "output_type": "stream",
          "name": "stdout",
          "text": [
            "f_statistic: 6.9448\n",
            "p-value: 0.0099\n",
            "difference in the mean\n"
          ]
        }
      ]
    },
    {
      "cell_type": "markdown",
      "source": [
        "## EX9 : U-Test"
      ],
      "metadata": {
        "id": "CKv7FZZftXaw"
      }
    },
    {
      "cell_type": "code",
      "source": [
        "from scipy.stats import mannwhitneyu\n",
        "\n",
        "group1 = [12, 15, 14, 18, 16]\n",
        "group2 = [8, 10, 11, 13, 9]\n",
        "\n",
        "statistic, p_value = mannwhitneyu(group1, group2)\n",
        "\n",
        "\n",
        "print(f'u-test: {statistic}')\n",
        "print(f'p-value: {p_value}')\n",
        "\n",
        "alpha = 0.05\n",
        "if p_value < alpha:\n",
        "    print(\"The probability distribution is different\")\n",
        "else:\n",
        "    print(\"The probability distribution is not different\")"
      ],
      "metadata": {
        "colab": {
          "base_uri": "https://localhost:8080/"
        },
        "id": "vfic8uqVtLwg",
        "outputId": "43655848-c8fc-46d4-8326-6e76a8544f0c"
      },
      "execution_count": null,
      "outputs": [
        {
          "output_type": "stream",
          "name": "stdout",
          "text": [
            "u-test: 24.0\n",
            "p-value: 0.015873015873015872\n",
            "The probability distribution is different\n"
          ]
        }
      ]
    },
    {
      "cell_type": "code",
      "source": [],
      "metadata": {
        "id": "AzpmdPSntd9W"
      },
      "execution_count": null,
      "outputs": []
    }
  ]
}